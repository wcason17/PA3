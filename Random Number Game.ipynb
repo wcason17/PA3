{
 "cells": [
  {
   "cell_type": "code",
   "execution_count": 1,
   "id": "f3b95330",
   "metadata": {},
   "outputs": [],
   "source": [
    "import random\n"
   ]
  },
  {
   "cell_type": "code",
   "execution_count": null,
   "id": "20d709e1",
   "metadata": {},
   "outputs": [],
   "source": []
  },
  {
   "cell_type": "code",
   "execution_count": 3,
   "id": "b4632bb9",
   "metadata": {},
   "outputs": [
    {
     "ename": "SyntaxError",
     "evalue": "invalid syntax (<ipython-input-3-2e3897e8d855>, line 3)",
     "output_type": "error",
     "traceback": [
      "\u001b[0;36m  File \u001b[0;32m\"<ipython-input-3-2e3897e8d855>\"\u001b[0;36m, line \u001b[0;32m3\u001b[0m\n\u001b[0;31m    6. print(\"Hello!\")\u001b[0m\n\u001b[0m       ^\u001b[0m\n\u001b[0;31mSyntaxError\u001b[0m\u001b[0;31m:\u001b[0m invalid syntax\n"
     ]
    }
   ],
   "source": [
    " 5.print('Hello!')\n",
    "\n",
    " 6. number = random.randint(1, 1000)\n",
    "\n",
    " 7.guess = input()\n",
    "\n",
    " 9. guess = int(guess)\n",
    "\n",
    "10. print('Guess a number between 1 and 1000.')\n",
    "\n",
    "11.def evaluateguess\n",
    "\n",
    "12. while guess != number:\n",
    "\n",
    "13.     print('Take a guess.')\n",
    "\n",
    "14.     guess = input()\n",
    "\n",
    "15.     guess = int(guess)\n",
    "\n",
    "\n",
    "19.     if guess < number:\n",
    "\n",
    "20.         print('Too low, Guess again.') \n",
    "\n",
    "21.\n",
    "\n",
    "22.     if guess > number:\n",
    "\n",
    "23.         print('Too high, Guess again.')\n",
    "\n",
    "24.\n",
    "\n",
    "25.     if guess == number:\n",
    "\n",
    "26.         break\n",
    "\n",
    "27.\n",
    "\n",
    "28. if guess == number:\n",
    "\n",
    "29.     print(\"Correct!\")\n",
    "\n",
    "30.    \n",
    "\n",
    "31.\n",
    "\n",
    "32.\n",
    "\n",
    "33.  \n",
    "\n",
    "34.    "
   ]
  },
  {
   "cell_type": "code",
   "execution_count": null,
   "id": "2f1e0f68",
   "metadata": {},
   "outputs": [],
   "source": []
  }
 ],
 "metadata": {
  "kernelspec": {
   "display_name": "Python 3",
   "language": "python",
   "name": "python3"
  },
  "language_info": {
   "codemirror_mode": {
    "name": "ipython",
    "version": 3
   },
   "file_extension": ".py",
   "mimetype": "text/x-python",
   "name": "python",
   "nbconvert_exporter": "python",
   "pygments_lexer": "ipython3",
   "version": "3.8.8"
  }
 },
 "nbformat": 4,
 "nbformat_minor": 5
}
